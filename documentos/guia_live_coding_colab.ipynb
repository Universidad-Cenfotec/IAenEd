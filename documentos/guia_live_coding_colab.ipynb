{
  "cells": [
    {
      "cell_type": "markdown",
      "metadata": {},
      "source": [
        "# Taller MEP — Live Coding (Colab)\n",
        "\n",
        "Este cuaderno guía un análisis básico con el archivo `datos_taller_mep.csv`.\n",
        "\n",
        "**Pasos:**\n",
        "1) Ejecuta la celda de carga de datos.\n",
        "2) Explora descripciones y visualizaciones.\n",
        "3) Identifica estudiantes/grupos en riesgo y piensa una intervención.\n"
      ]
    },
    {
      "cell_type": "code",
      "execution_count": null,
      "metadata": {},
      "outputs": [],
      "source": [
        "# 1) Carga de librerías\n",
        "import pandas as pd\n",
        "import matplotlib.pyplot as plt\n",
        "import numpy as np\n",
        "\n",
        "# En Colab, asegúrate de usar: Runtime -> Change runtime type -> Python 3 (CPU)\n"
      ]
    },
    {
      "cell_type": "code",
      "execution_count": null,
      "metadata": {},
      "outputs": [],
      "source": [
        "# 2) Cargar datos\n",
        "# Opción A (Colab): subir el archivo manualmente\n",
        "try:\n",
        "    from google.colab import files\n",
        "    uploaded = files.upload()\n",
        "    fname = list(uploaded.keys())[0]\n",
        "    df = pd.read_csv(fname)\n",
        "except Exception:\n",
        "    # Opción B: si ya tienes una ruta local o en Drive, edítala aquí\n",
        "    df = pd.read_csv('datos_taller_mep.csv')  # Cambia a la ruta donde lo guardaste\n",
        "\n",
        "df.head()"
      ]
    },
    {
      "cell_type": "code",
      "execution_count": null,
      "metadata": {},
      "outputs": [],
      "source": [
        "# 3) Exploración rápida\n",
        "display(df.describe(include='all'))\n",
        "print('\\nDistribución por sección:')\n",
        "print(df['seccion'].value_counts())\n",
        "print('\\nDistribución por sexo:')\n",
        "print(df['sexo'].value_counts())"
      ]
    },
    {
      "cell_type": "code",
      "execution_count": null,
      "metadata": {},
      "outputs": [],
      "source": [
        "# 4) Visualizaciones básicas (una por celda)\n",
        "# Histograma de nota final\n",
        "plt.figure()\n",
        "plt.hist(df['nota_final'].dropna(), bins=10)\n",
        "plt.title('Histograma de nota final')\n",
        "plt.xlabel('Nota final')\n",
        "plt.ylabel('Frecuencia')\n",
        "plt.show()"
      ]
    },
    {
      "cell_type": "code",
      "execution_count": null,
      "metadata": {},
      "outputs": [],
      "source": [
        "# Barras: promedio de nota por sección\n",
        "prom_seccion = df.groupby('seccion')['nota_final'].mean().sort_index()\n",
        "plt.figure()\n",
        "prom_seccion.plot(kind='bar')\n",
        "plt.title('Promedio de nota final por sección')\n",
        "plt.xlabel('Sección')\n",
        "plt.ylabel('Promedio nota final')\n",
        "plt.show()"
      ]
    },
    {
      "cell_type": "code",
      "execution_count": null,
      "metadata": {},
      "outputs": [],
      "source": [
        "# Dispersión: asistencia vs. nota final\n",
        "plt.figure()\n",
        "plt.scatter(df['asistencia_pct'], df['nota_final'])\n",
        "plt.title('Asistencia vs. Nota final')\n",
        "plt.xlabel('% Asistencia')\n",
        "plt.ylabel('Nota final')\n",
        "plt.show()"
      ]
    },
    {
      "cell_type": "code",
      "execution_count": null,
      "metadata": {},
      "outputs": [],
      "source": [
        "# 5) Indicadores sencillos\n",
        "umbral_asistencia = 80\n",
        "umbral_nota = 65\n",
        "df['en_riesgo'] = ((df['asistencia_pct'] < umbral_asistencia) | (df['nota_final'] < umbral_nota)).astype(int)\n",
        "print('Porcentaje en riesgo:', round(100*df['en_riesgo'].mean(), 1), '%')\n",
        "\n",
        "print('\\nPromedio por sexo:')\n",
        "print(df.groupby('sexo')['nota_final'].mean())\n",
        "\n",
        "print('\\nPromedio por sección:')\n",
        "print(df.groupby('seccion')['nota_final'].mean())"
      ]
    },
    {
      "cell_type": "code",
      "execution_count": null,
      "metadata": {},
      "outputs": [],
      "source": [
        "# 6) Top-N y casos para intervención\n",
        "print('Top 5 notas más bajas:')\n",
        "display(df.sort_values('nota_final').head(5))\n",
        "\n",
        "print('\\nEstudiantes con asistencia < 80%:')\n",
        "display(df[df['asistencia_pct'] < 80].sort_values('asistencia_pct').head(10))"
      ]
    },
    {
      "cell_type": "markdown",
      "metadata": {},
      "source": [
        "## 7) Sugerencias de uso responsable de IA\n",
        "- Usar IA para *resumir* hallazgos, *redactar* comunicaciones a familias o *sugerir* estrategias de apoyo.\n",
        "- **No** delegar decisiones sensibles (promoción/reprobación) a la IA.\n",
        "- Cuidar privacidad: no cargar datos con identificadores reales.\n"
      ]
    }
  ],
  "metadata": {
    "kernelspec": {
      "display_name": "Python 3",
      "language": "python",
      "name": "python3"
    },
    "language_info": {
      "name": "python",
      "version": "3.x"
    }
  },
  "nbformat": 4,
  "nbformat_minor": 5
}